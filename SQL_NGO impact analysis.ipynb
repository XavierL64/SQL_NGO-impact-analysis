{
 "cells": [
  {
   "cell_type": "code",
   "execution_count": 19,
   "id": "b9c29e39-7d27-4a41-b9f6-553eb2881519",
   "metadata": {
    "customType": "sql",
    "dataFrameVariableName": "highest_donation_assignments",
    "executionCancelledAt": null,
    "executionTime": 1354,
    "lastExecutedAt": 1721888402419,
    "lastExecutedByKernel": "890a654e-c62c-4578-bbb2-4b679293e9de",
    "lastScheduledRunId": null,
    "lastSuccessfullyExecutedCode": "-- List the top five assignments based on total value of donations, categorized by donor type.\n-- highest_donation_assignments\n\nWITH donation_details AS (\nSELECT \n\td.assignment_id, \n\tROUND(SUM(amount), 2) AS rounded_total_donation_amount, \n\tdn.donor_type\nFROM donations d\nJOIN donors dn ON d.donor_id = dn.donor_id\nGROUP BY \n\td.assignment_id, \n\tdn.donor_type\n)\nSELECT \n\ta.assignment_name,\n\ta.region,\n\tdd.rounded_total_donation_amount,\n\tdd.donor_type\nFROM donation_details dd\nJOIN assignments a ON dd.assignment_id = a.assignment_id\nORDER BY dd.rounded_total_donation_amount DESC\nLIMIT(5);\n",
    "outputsMetadata": {
     "0": {
      "height": 196,
      "type": "dataFrame"
     }
    },
    "sqlCellMode": "dataFrame",
    "sqlSource": {
     "integrationId": "89e17161-a224-4a8a-846b-0adc0fe7a4b1",
     "integrationType": "postgresql",
     "type": "integration"
    }
   },
   "outputs": [
    {
     "@datacamp/metadata": {
      "executedQuery": "-- List the top five assignments based on total value of donations, categorized by donor type.\n-- highest_donation_assignments\n\nWITH donation_details AS (\nSELECT \n\td.assignment_id, \n\tROUND(SUM(amount), 2) AS rounded_total_donation_amount, \n\tdn.donor_type\nFROM donations d\nJOIN donors dn ON d.donor_id = dn.donor_id\nGROUP BY \n\td.assignment_id, \n\tdn.donor_type\n)\nSELECT \n\ta.assignment_name,\n\ta.region,\n\tdd.rounded_total_donation_amount,\n\tdd.donor_type\nFROM donation_details dd\nJOIN assignments a ON dd.assignment_id = a.assignment_id\nORDER BY dd.rounded_total_donation_amount DESC\nLIMIT(5);",
      "executedQueryParameters": []
     },
     "data": {
      "application/com.datacamp.data-table.v2+json": {
       "table": {
        "data": {
         "assignment_name": [
          "Assignment_3033",
          "Assignment_300",
          "Assignment_4114",
          "Assignment_1765",
          "Assignment_268"
         ],
         "donor_type": [
          "Individual",
          "Organization",
          "Organization",
          "Organization",
          "Individual"
         ],
         "index": [
          0,
          1,
          2,
          3,
          4
         ],
         "region": [
          "East",
          "West",
          "North",
          "West",
          "East"
         ],
         "rounded_total_donation_amount": [
          3840.66,
          3133.98,
          2778.57,
          2626.98,
          2488.69
         ]
        },
        "schema": {
         "fields": [
          {
           "name": "index",
           "type": "integer"
          },
          {
           "name": "assignment_name",
           "type": "string"
          },
          {
           "name": "region",
           "type": "string"
          },
          {
           "name": "rounded_total_donation_amount",
           "type": "number"
          },
          {
           "name": "donor_type",
           "type": "string"
          }
         ],
         "pandas_version": "1.4.0",
         "primaryKey": [
          "index"
         ]
        }
       },
       "total_rows": 5,
       "truncation_type": null
      },
      "text/html": [
       "<div>\n",
       "<style scoped>\n",
       "    .dataframe tbody tr th:only-of-type {\n",
       "        vertical-align: middle;\n",
       "    }\n",
       "\n",
       "    .dataframe tbody tr th {\n",
       "        vertical-align: top;\n",
       "    }\n",
       "\n",
       "    .dataframe thead th {\n",
       "        text-align: right;\n",
       "    }\n",
       "</style>\n",
       "<table border=\"1\" class=\"dataframe\">\n",
       "  <thead>\n",
       "    <tr style=\"text-align: right;\">\n",
       "      <th></th>\n",
       "      <th>assignment_name</th>\n",
       "      <th>region</th>\n",
       "      <th>rounded_total_donation_amount</th>\n",
       "      <th>donor_type</th>\n",
       "    </tr>\n",
       "  </thead>\n",
       "  <tbody>\n",
       "    <tr>\n",
       "      <th>0</th>\n",
       "      <td>Assignment_3033</td>\n",
       "      <td>East</td>\n",
       "      <td>3840.66</td>\n",
       "      <td>Individual</td>\n",
       "    </tr>\n",
       "    <tr>\n",
       "      <th>1</th>\n",
       "      <td>Assignment_300</td>\n",
       "      <td>West</td>\n",
       "      <td>3133.98</td>\n",
       "      <td>Organization</td>\n",
       "    </tr>\n",
       "    <tr>\n",
       "      <th>2</th>\n",
       "      <td>Assignment_4114</td>\n",
       "      <td>North</td>\n",
       "      <td>2778.57</td>\n",
       "      <td>Organization</td>\n",
       "    </tr>\n",
       "    <tr>\n",
       "      <th>3</th>\n",
       "      <td>Assignment_1765</td>\n",
       "      <td>West</td>\n",
       "      <td>2626.98</td>\n",
       "      <td>Organization</td>\n",
       "    </tr>\n",
       "    <tr>\n",
       "      <th>4</th>\n",
       "      <td>Assignment_268</td>\n",
       "      <td>East</td>\n",
       "      <td>2488.69</td>\n",
       "      <td>Individual</td>\n",
       "    </tr>\n",
       "  </tbody>\n",
       "</table>\n",
       "</div>"
      ],
      "text/plain": [
       "   assignment_name region  rounded_total_donation_amount    donor_type\n",
       "0  Assignment_3033   East                        3840.66    Individual\n",
       "1   Assignment_300   West                        3133.98  Organization\n",
       "2  Assignment_4114  North                        2778.57  Organization\n",
       "3  Assignment_1765   West                        2626.98  Organization\n",
       "4   Assignment_268   East                        2488.69    Individual"
      ]
     },
     "execution_count": 19,
     "metadata": {},
     "output_type": "execute_result"
    }
   ],
   "source": [
    "-- List the top five assignments based on total value of donations, categorized by donor type.\n",
    "\n",
    "WITH donation_details AS (\n",
    "SELECT \n",
    "    d.assignment_id, \n",
    "    ROUND(SUM(amount), 2) AS rounded_total_donation_amount, \n",
    "    dn.donor_type\n",
    "FROM donations d\n",
    "JOIN donors dn ON d.donor_id = dn.donor_id\n",
    "GROUP BY \n",
    "    d.assignment_id, \n",
    "    dn.donor_type\n",
    ")\n",
    "SELECT \n",
    "    a.assignment_name,\n",
    "    a.region,\n",
    "    dd.rounded_total_donation_amount,\n",
    "    dd.donor_type\n",
    "FROM donation_details dd\n",
    "JOIN assignments a ON dd.assignment_id = a.assignment_id\n",
    "ORDER BY dd.rounded_total_donation_amount DESC\n",
    "LIMIT(5);"
   ]
  },
  {
   "cell_type": "code",
   "execution_count": 20,
   "id": "7ffa5c94-fda1-4b9d-b8f3-a6442b00e423",
   "metadata": {
    "customType": "sql",
    "dataFrameVariableName": "top_regional_impact_assignments",
    "executionCancelledAt": null,
    "executionTime": 950,
    "lastExecutedAt": 1721888403369,
    "lastExecutedByKernel": "890a654e-c62c-4578-bbb2-4b679293e9de",
    "lastScheduledRunId": null,
    "lastSuccessfullyExecutedCode": "-- dentify the assignment with the highest impact score in each region\n-- top_regional_impact_assignments\n\nWITH donation_counts AS (\nSELECT \n\tassignment_id,\n\tCOUNT(donation_id) AS num_total_donations\nFROM donations\nGROUP BY assignment_id\n),\nranked_assignments AS (\nSELECT\n\ta.assignment_name,\n\ta.region,\n\ta.impact_score,\n\tdc.num_total_donations,\n\tROW_NUMBER() OVER(\n\t\tPARTITION BY a.region\n\t\tORDER BY a.impact_score DESC\n\t) AS rank_in_region\nFROM assignments a\nJOIN donation_counts dc ON a.assignment_id = dc.assignment_id\nWHERE dc.num_total_donations > 0\n)\nSELECT \n\tassignment_name,\n\tregion, \n\timpact_score,\n\tnum_total_donations\nFROM ranked_assignments\nWHERE rank_in_region = 1\nORDER BY region ASC;",
    "outputsMetadata": {
     "0": {
      "height": 171,
      "type": "dataFrame"
     }
    },
    "sqlCellMode": "dataFrame",
    "sqlSource": {
     "integrationId": "89e17161-a224-4a8a-846b-0adc0fe7a4b1",
     "integrationType": "postgresql",
     "type": "integration"
    }
   },
   "outputs": [
    {
     "@datacamp/metadata": {
      "executedQuery": "-- dentify the assignment with the highest impact score in each region\n-- top_regional_impact_assignments\n\nWITH donation_counts AS (\nSELECT \n\tassignment_id,\n\tCOUNT(donation_id) AS num_total_donations\nFROM donations\nGROUP BY assignment_id\n),\nranked_assignments AS (\nSELECT\n\ta.assignment_name,\n\ta.region,\n\ta.impact_score,\n\tdc.num_total_donations,\n\tROW_NUMBER() OVER(\n\t\tPARTITION BY a.region\n\t\tORDER BY a.impact_score DESC\n\t) AS rank_in_region\nFROM assignments a\nJOIN donation_counts dc ON a.assignment_id = dc.assignment_id\nWHERE dc.num_total_donations > 0\n)\nSELECT \n\tassignment_name,\n\tregion, \n\timpact_score,\n\tnum_total_donations\nFROM ranked_assignments\nWHERE rank_in_region = 1\nORDER BY region ASC;",
      "executedQueryParameters": []
     },
     "data": {
      "application/com.datacamp.data-table.v2+json": {
       "table": {
        "data": {
         "assignment_name": [
          "Assignment_316",
          "Assignment_2253",
          "Assignment_3547",
          "Assignment_2794"
         ],
         "impact_score": [
          10,
          9.99,
          10,
          9.99
         ],
         "index": [
          0,
          1,
          2,
          3
         ],
         "num_total_donations": [
          2,
          1,
          1,
          2
         ],
         "region": [
          "East",
          "North",
          "South",
          "West"
         ]
        },
        "schema": {
         "fields": [
          {
           "name": "index",
           "type": "integer"
          },
          {
           "name": "assignment_name",
           "type": "string"
          },
          {
           "name": "region",
           "type": "string"
          },
          {
           "name": "impact_score",
           "type": "number"
          },
          {
           "name": "num_total_donations",
           "type": "integer"
          }
         ],
         "pandas_version": "1.4.0",
         "primaryKey": [
          "index"
         ]
        }
       },
       "total_rows": 4,
       "truncation_type": null
      },
      "text/html": [
       "<div>\n",
       "<style scoped>\n",
       "    .dataframe tbody tr th:only-of-type {\n",
       "        vertical-align: middle;\n",
       "    }\n",
       "\n",
       "    .dataframe tbody tr th {\n",
       "        vertical-align: top;\n",
       "    }\n",
       "\n",
       "    .dataframe thead th {\n",
       "        text-align: right;\n",
       "    }\n",
       "</style>\n",
       "<table border=\"1\" class=\"dataframe\">\n",
       "  <thead>\n",
       "    <tr style=\"text-align: right;\">\n",
       "      <th></th>\n",
       "      <th>assignment_name</th>\n",
       "      <th>region</th>\n",
       "      <th>impact_score</th>\n",
       "      <th>num_total_donations</th>\n",
       "    </tr>\n",
       "  </thead>\n",
       "  <tbody>\n",
       "    <tr>\n",
       "      <th>0</th>\n",
       "      <td>Assignment_316</td>\n",
       "      <td>East</td>\n",
       "      <td>10.00</td>\n",
       "      <td>2</td>\n",
       "    </tr>\n",
       "    <tr>\n",
       "      <th>1</th>\n",
       "      <td>Assignment_2253</td>\n",
       "      <td>North</td>\n",
       "      <td>9.99</td>\n",
       "      <td>1</td>\n",
       "    </tr>\n",
       "    <tr>\n",
       "      <th>2</th>\n",
       "      <td>Assignment_3547</td>\n",
       "      <td>South</td>\n",
       "      <td>10.00</td>\n",
       "      <td>1</td>\n",
       "    </tr>\n",
       "    <tr>\n",
       "      <th>3</th>\n",
       "      <td>Assignment_2794</td>\n",
       "      <td>West</td>\n",
       "      <td>9.99</td>\n",
       "      <td>2</td>\n",
       "    </tr>\n",
       "  </tbody>\n",
       "</table>\n",
       "</div>"
      ],
      "text/plain": [
       "   assignment_name region  impact_score  num_total_donations\n",
       "0   Assignment_316   East         10.00                    2\n",
       "1  Assignment_2253  North          9.99                    1\n",
       "2  Assignment_3547  South         10.00                    1\n",
       "3  Assignment_2794   West          9.99                    2"
      ]
     },
     "execution_count": 20,
     "metadata": {},
     "output_type": "execute_result"
    }
   ],
   "source": [
    "-- Identify the assignment with the highest impact score in each region\n",
    "\n",
    "\n",
    "WITH donation_counts AS (\n",
    "SELECT \n",
    "    assignment_id,\n",
    "    COUNT(donation_id) AS num_total_donations\n",
    "FROM donations\n",
    "GROUP BY assignment_id\n",
    "),\n",
    "ranked_assignments AS (\n",
    "SELECT\n",
    "    a.assignment_name,\n",
    "    a.region,\n",
    "    a.impact_score,\n",
    "    dc.num_total_donations,\n",
    "    ROW_NUMBER() OVER(\n",
    "        PARTITION BY a.region\n",
    "        ORDER BY a.impact_score DESC\n",
    "    ) AS rank_in_region\n",
    "FROM assignments a\n",
    "JOIN donation_counts dc ON a.assignment_id = dc.assignment_id\n",
    "WHERE dc.num_total_donations > 0\n",
    ")\n",
    "SELECT \n",
    "    assignment_name,\n",
    "    region, \n",
    "    impact_score,\n",
    "    num_total_donations\n",
    "FROM ranked_assignments\n",
    "WHERE rank_in_region = 1\n",
    "ORDER BY region ASC;"
   ]
  }
 ],
 "metadata": {
  "colab": {
   "name": "Welcome to DataCamp Workspaces.ipynb",
   "provenance": []
  },
  "kernelspec": {
   "display_name": "Python 3 (ipykernel)",
   "language": "python",
   "name": "python3"
  },
  "language_info": {
   "codemirror_mode": {
    "name": "ipython",
    "version": 3
   },
   "file_extension": ".py",
   "mimetype": "text/x-python",
   "name": "python",
   "nbconvert_exporter": "python",
   "pygments_lexer": "ipython3",
   "version": "3.11.5"
  }
 },
 "nbformat": 4,
 "nbformat_minor": 5
}
